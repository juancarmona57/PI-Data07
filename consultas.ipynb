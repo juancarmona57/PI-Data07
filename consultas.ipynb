{
 "cells": [
  {
   "cell_type": "code",
   "execution_count": 1,
   "metadata": {},
   "outputs": [],
   "source": [
    "from fastapi import FastAPI, HTTPException\n",
    "import pandas as pd\n",
    "from pandasql import sqldf"
   ]
  },
  {
   "cell_type": "code",
   "execution_count": 2,
   "metadata": {},
   "outputs": [],
   "source": [
    "#Película con mayor duración con filtros opcionales de AÑO, PLATAFORMA Y TIPO DE DURACIÓN. \n",
    "def get_max_duration(year:int, platform, duration_type:str):\n",
    "    #Cargamos los datos\n",
    "    df = pd.read_csv('Data/Plataformas.csv')\n",
    "\n",
    "    #iteramos el filtro de Platform\n",
    "    if platform == 'amazon':\n",
    "        plat = 'a%'\n",
    "    elif platform == 'disney':\n",
    "        plat = 'd%'\n",
    "    elif platform == 'hulu':\n",
    "        plat = 'h%'\n",
    "    elif platform == 'netflix':\n",
    "        plat = 'n%'\n",
    "    else:\n",
    "        return (\"Plataforma incorrecta\")\n",
    "    \n",
    "    #Hacemos la consulta\n",
    "    query = f\"SELECT title, duration_int, duration_type FROM df WHERE type = 'movie' AND date_added LIKE '%{year}%' AND ID LIKE '{plat}' AND duration_type = '{duration_type}' \"\n",
    "    \n",
    "    result = sqldf(query, locals())\n",
    "\n",
    "    # Retorna la película con mayor duración\n",
    "    return result.loc[result['duration_int'].idxmax()]"
   ]
  },
  {
   "cell_type": "code",
   "execution_count": 3,
   "metadata": {},
   "outputs": [
    {
     "data": {
      "text/plain": [
       "title            the school of mischief\n",
       "duration_int                        253\n",
       "duration_type                       min\n",
       "Name: 664, dtype: object"
      ]
     },
     "execution_count": 3,
     "metadata": {},
     "output_type": "execute_result"
    }
   ],
   "source": [
    "#Verificamos\n",
    "get_max_duration('2020', 'netflix', 'min')"
   ]
  },
  {
   "cell_type": "code",
   "execution_count": 4,
   "metadata": {},
   "outputs": [],
   "source": [
    "import pandasql as ps\n",
    "import sqlite3"
   ]
  },
  {
   "cell_type": "code",
   "execution_count": 5,
   "metadata": {},
   "outputs": [],
   "source": [
    "from pandasql import sqldf\n",
    "\n",
    "def run_query(query):\n",
    "    return sqldf(query)"
   ]
  },
  {
   "cell_type": "code",
   "execution_count": 6,
   "metadata": {},
   "outputs": [],
   "source": [
    "#Cantidad de películas por plataforma con un puntaje mayor a XX en determinado año (la función debe llamarse get_score_count(platform, scored, year))\n",
    "def get_score_count(platform:str, scored:float, year:str):\n",
    "\n",
    "    df = pd.read_csv('Data/Plataformas.csv')\n",
    "\n",
    "    # Iteramos el filtro de plataforma\n",
    "    if platform.lower() == 'amazon':\n",
    "        platform_id = 'a%'\n",
    "    elif platform.lower() == 'disney':\n",
    "        platform_id = 'd%'\n",
    "    elif platform.lower() == 'hulu':\n",
    "        platform_id = 'h%'\n",
    "    elif platform.lower() == 'netflix':\n",
    "        platform_id = 'n%'\n",
    "    else:\n",
    "        return \"Plataforma incorrecta\"\n",
    "\n",
    "    query = f\"SELECT COUNT(*) AS count FROM df WHERE ID LIKE '{platform_id}%' AND type='movie' AND rating >= {scored} AND date_added BETWEEN '{year}-01-01' AND '{year}-12-31'\"\n",
    "\n",
    "\n",
    "    return ps.sqldf(query, locals())"
   ]
  },
  {
   "cell_type": "code",
   "execution_count": 7,
   "metadata": {},
   "outputs": [
    {
     "data": {
      "text/html": [
       "<div>\n",
       "<style scoped>\n",
       "    .dataframe tbody tr th:only-of-type {\n",
       "        vertical-align: middle;\n",
       "    }\n",
       "\n",
       "    .dataframe tbody tr th {\n",
       "        vertical-align: top;\n",
       "    }\n",
       "\n",
       "    .dataframe thead th {\n",
       "        text-align: right;\n",
       "    }\n",
       "</style>\n",
       "<table border=\"1\" class=\"dataframe\">\n",
       "  <thead>\n",
       "    <tr style=\"text-align: right;\">\n",
       "      <th></th>\n",
       "      <th>count</th>\n",
       "    </tr>\n",
       "  </thead>\n",
       "  <tbody>\n",
       "    <tr>\n",
       "      <th>0</th>\n",
       "      <td>971</td>\n",
       "    </tr>\n",
       "  </tbody>\n",
       "</table>\n",
       "</div>"
      ],
      "text/plain": [
       "   count\n",
       "0    971"
      ]
     },
     "execution_count": 7,
     "metadata": {},
     "output_type": "execute_result"
    }
   ],
   "source": [
    "get_score_count('netflix', 3.5, '2020')"
   ]
  },
  {
   "cell_type": "code",
   "execution_count": 8,
   "metadata": {},
   "outputs": [],
   "source": [
    "#Cantidad de películas por plataforma con filtro de PLATAFORMA. (La función debe llamarse get_count_platform(platform))\n",
    "import pandas as pd\n",
    "import pandasql as ps\n",
    "\n",
    "def get_count_platform(platform: str):\n",
    "    df = pd.read_csv('Data/Plataformas.csv')\n",
    "\n",
    "    if platform == 'amazon':\n",
    "        plat = 'a'\n",
    "    elif platform == 'disney':\n",
    "        plat = 'd'\n",
    "    elif platform == 'hulu':\n",
    "        plat = 'h'\n",
    "    elif platform == 'netflix':\n",
    "        plat = 'n'\n",
    "    else:\n",
    "        return (\"Plataforma incorrecta\")\n",
    "\n",
    "    query = f\"SELECT COUNT(*) AS count FROM df WHERE ID LIKE '{plat}%' AND type = 'movie'\"\n",
    "    return ps.sqldf(query, locals())"
   ]
  },
  {
   "cell_type": "code",
   "execution_count": 9,
   "metadata": {},
   "outputs": [
    {
     "data": {
      "text/html": [
       "<div>\n",
       "<style scoped>\n",
       "    .dataframe tbody tr th:only-of-type {\n",
       "        vertical-align: middle;\n",
       "    }\n",
       "\n",
       "    .dataframe tbody tr th {\n",
       "        vertical-align: top;\n",
       "    }\n",
       "\n",
       "    .dataframe thead th {\n",
       "        text-align: right;\n",
       "    }\n",
       "</style>\n",
       "<table border=\"1\" class=\"dataframe\">\n",
       "  <thead>\n",
       "    <tr style=\"text-align: right;\">\n",
       "      <th></th>\n",
       "      <th>count</th>\n",
       "    </tr>\n",
       "  </thead>\n",
       "  <tbody>\n",
       "    <tr>\n",
       "      <th>0</th>\n",
       "      <td>1052</td>\n",
       "    </tr>\n",
       "  </tbody>\n",
       "</table>\n",
       "</div>"
      ],
      "text/plain": [
       "   count\n",
       "0   1052"
      ]
     },
     "execution_count": 9,
     "metadata": {},
     "output_type": "execute_result"
    }
   ],
   "source": [
    "get_count_platform('disney')"
   ]
  },
  {
   "cell_type": "code",
   "execution_count": 10,
   "metadata": {},
   "outputs": [],
   "source": [
    "import pandas as pd\n",
    "\n",
    "def get_actor(platform: str, year: str):\n",
    "    # Cargar el archivo CSV en un DataFrame\n",
    "    df = pd.read_csv('Data/Plataformas.csv')\n",
    "\n",
    "    # Filtrar por plataforma\n",
    "    if platform.lower() == 'netflix':\n",
    "        df = df[df['ID'].str.startswith('n')]\n",
    "    elif platform.lower() == 'amazon':\n",
    "        df = df[df['ID'].str.startswith('a')]\n",
    "    elif platform.lower() == 'hulu':\n",
    "        df = df[df['ID'].str.startswith('h')]\n",
    "    elif platform.lower() == 'disney':\n",
    "        df = df[df['ID'].str.startswith('d')]\n",
    "    else:\n",
    "        return 'Plataforma incorrecta'\n",
    "\n",
    "    # Convertir la columna 'release_year' de float a int\n",
    "    df['release_year'] = df['release_year'].fillna(0).astype(int)\n",
    "\n",
    "    # Eliminar las filas con valores nulos en la columna 'cast'\n",
    "    df = df.dropna(subset=['cast'])\n",
    "\n",
    "    # Filtrar por año y obtener el actor que más se repite\n",
    "    cast_count = df.loc[df['release_year'] == int(year)].groupby('cast').size().reset_index(name='count')\n",
    "    actor = cast_count.loc[cast_count['count'].idxmax(), 'cast']\n",
    "\n",
    "    return actor\n"
   ]
  },
  {
   "cell_type": "code",
   "execution_count": 11,
   "metadata": {},
   "outputs": [
    {
     "data": {
      "text/plain": [
       "'michela luci, jamie watson, eric peterson, anna claire bartlam, nicolas aqui, cory doran, julie lemieux, derek mcgrath'"
      ]
     },
     "execution_count": 11,
     "metadata": {},
     "output_type": "execute_result"
    }
   ],
   "source": [
    "get_actor('netflix', '2019')"
   ]
  }
 ],
 "metadata": {
  "kernelspec": {
   "display_name": "Python 3",
   "language": "python",
   "name": "python3"
  },
  "language_info": {
   "codemirror_mode": {
    "name": "ipython",
    "version": 3
   },
   "file_extension": ".py",
   "mimetype": "text/x-python",
   "name": "python",
   "nbconvert_exporter": "python",
   "pygments_lexer": "ipython3",
   "version": "3.11.1"
  },
  "orig_nbformat": 4,
  "vscode": {
   "interpreter": {
    "hash": "dbe5968ebd87453f76702a7b2e0ce35c6e273bbfb967aa19539436dec240f20d"
   }
  }
 },
 "nbformat": 4,
 "nbformat_minor": 2
}
