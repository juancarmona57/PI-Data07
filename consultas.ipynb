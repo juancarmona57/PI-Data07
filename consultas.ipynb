{
 "cells": [
  {
   "cell_type": "code",
   "execution_count": 1,
   "metadata": {},
   "outputs": [],
   "source": [
    "from fastapi import FastAPI, HTTPException\n",
    "import pandas as pd\n",
    "from pandasql import sqldf"
   ]
  },
  {
   "cell_type": "code",
   "execution_count": 23,
   "metadata": {},
   "outputs": [],
   "source": [
    "#Película con mayor duración con filtros opcionales de AÑO, PLATAFORMA Y TIPO DE DURACIÓN. \n",
    "def get_max_duration(year:int, platform, duration_type:str):\n",
    "    #Cargamos los datos\n",
    "    df = pd.read_csv('Data/Plataformas.csv')\n",
    "\n",
    "    #iteramos el filtro de Platform\n",
    "    if platform == 'amazon':\n",
    "        plat = 'a%'\n",
    "    elif platform == 'disney':\n",
    "        plat = 'd%'\n",
    "    elif platform == 'hulu':\n",
    "        plat = 'h%'\n",
    "    elif platform == 'netflix':\n",
    "        plat = 'n%'\n",
    "    else:\n",
    "        return (\"Plataforma incorrecta\")\n",
    "    \n",
    "    #Hacemos la consulta\n",
    "    query = f\"SELECT title, duration_int, duration_type FROM df WHERE type = 'movie' AND date_added LIKE '%{year}%' AND ID LIKE '{plat}' AND duration_type = '{duration_type}' \"\n",
    "    \n",
    "    result = sqldf(query, locals())\n",
    "\n",
    "    # Retorna la película con mayor duración\n",
    "    return result.loc[result['duration_int'].idxmax()]"
   ]
  },
  {
   "cell_type": "code",
   "execution_count": 24,
   "metadata": {},
   "outputs": [
    {
     "data": {
      "text/plain": [
       "title            the school of mischief\n",
       "duration_int                        253\n",
       "duration_type                       min\n",
       "Name: 664, dtype: object"
      ]
     },
     "execution_count": 24,
     "metadata": {},
     "output_type": "execute_result"
    }
   ],
   "source": [
    "#Verificamos\n",
    "get_max_duration('2020', 'netflix', 'min')"
   ]
  },
  {
   "cell_type": "code",
   "execution_count": 25,
   "metadata": {},
   "outputs": [],
   "source": [
    "import pandasql"
   ]
  },
  {
   "cell_type": "code",
   "execution_count": 37,
   "metadata": {},
   "outputs": [],
   "source": [
    "#Cantidad de películas por plataforma con un puntaje mayor a XX en determinado año (la función debe llamarse get_score_count(platform, scored, year))\n",
    "def get_score_count(platform:str, scored, year):\n",
    "\n",
    "    df = pd.read_csv('Data/Plataformas.csv')\n",
    "\n",
    "    #iteramos el filtro de Platform\n",
    "    if platform == 'amazon':\n",
    "        plat = 'a%'\n",
    "    elif platform == 'disney':\n",
    "        plat = 'd%'\n",
    "    elif platform == 'hulu':\n",
    "        plat = 'h%'\n",
    "    elif platform == 'netflix':\n",
    "        plat = 'n%'\n",
    "    else:\n",
    "        return (\"Plataforma incorrecta\")\n",
    "\n",
    "    query = f'''\n",
    "        SELECT ID, COUNT(*) as count\n",
    "        FROM df\n",
    "        WHERE type = 'movie'\n",
    "            AND ID = '{platform}'\n",
    "            AND rating >= {scored}\n",
    "            AND date_added LIKE '%{year}%'\n",
    "        GROUP BY ID\n",
    "    '''\n",
    "    # ejecutar la consulta SQL\n",
    "    result = pandasql.sqldf(query)\n",
    "    \n",
    "    # retornar el resultado\n",
    "    return result"
   ]
  },
  {
   "cell_type": "code",
   "execution_count": 40,
   "metadata": {},
   "outputs": [
    {
     "name": "stdout",
     "output_type": "stream",
     "text": [
      "Empty DataFrame\n",
      "Columns: [ID, count]\n",
      "Index: []\n"
     ]
    }
   ],
   "source": [
    "re = get_score_count('netflix', 7, '2019')\n",
    "print(re)\n"
   ]
  },
  {
   "cell_type": "code",
   "execution_count": null,
   "metadata": {},
   "outputs": [],
   "source": [
    "        \n",
    "def get_word_count(plataforma: str, keyword: str):\n",
    "    # lectura de la base de datos:\n",
    "    df = pd.read_csv(\"https://raw.githubusercontent.com/BeeluRiddle/pi-movies-database/main/movies_completo.csv\")\n",
    "    \n",
    "    #Definición de las plataformas:\n",
    "    if plataforma == \"amazon\":\n",
    "        plat = \"a%\"\n",
    "    elif plataforma == \"disney\":\n",
    "        plat = \"d%\"\n",
    "    elif plataforma == \"hulu\":\n",
    "        plat = \"h%\"\n",
    "    elif plataforma == \"netflix\":\n",
    "        plat = \"n%\"\n",
    "    else:\n",
    "        return (\"Plataforma incorrecta. Las opciones son: amazon, disney, hulu, netflix. Recuerde escribir todo en minúsculas.\")\n",
    "    \n",
    "    #QUERY:\n",
    "    query = f\"SELECT COUNT(title) FROM df WHERE title LIKE '%{keyword}%' AND id LIKE '{plat}'\"\n",
    "    #Se guarda el resultado en una nueva variable, dándole el formato sql:\n",
    "    result = sqldf(query)\n",
    "    \n",
    "    #Se verifica el contenido de la variable. En caso de no estar vacío:\n",
    "    if not result.iloc[0,0] == 0:\n",
    "        return result.to_dict() #retorna los datos solicitados en la consulta, como un diccionario.\n",
    "    #Si la variable no tiene contenido:\n",
    "    else:\n",
    "        return (\"No se pudo encontrar la keyword solicitada.\")"
   ]
  }
 ],
 "metadata": {
  "kernelspec": {
   "display_name": "Python 3",
   "language": "python",
   "name": "python3"
  },
  "language_info": {
   "codemirror_mode": {
    "name": "ipython",
    "version": 3
   },
   "file_extension": ".py",
   "mimetype": "text/x-python",
   "name": "python",
   "nbconvert_exporter": "python",
   "pygments_lexer": "ipython3",
   "version": "3.11.1"
  },
  "orig_nbformat": 4,
  "vscode": {
   "interpreter": {
    "hash": "dbe5968ebd87453f76702a7b2e0ce35c6e273bbfb967aa19539436dec240f20d"
   }
  }
 },
 "nbformat": 4,
 "nbformat_minor": 2
}
